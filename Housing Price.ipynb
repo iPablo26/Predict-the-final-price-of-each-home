{
 "cells": [
  {
   "cell_type": "code",
   "execution_count": 2,
   "id": "secure-attachment",
   "metadata": {},
   "outputs": [],
   "source": [
    "# Import packages for the initial analysis\n",
    "import pandas as pd # library providing high-performance, easy-to-use data structures and data analysis tools\n",
    "import numpy as np # library for scientific computing in Python\n",
    "import seaborn as sns # library for making statistical graphics in Python\n",
    "import matplotlib.pyplot as plt # state-based interface to matplotlib"
   ]
  },
  {
   "cell_type": "code",
   "execution_count": 3,
   "id": "comfortable-corps",
   "metadata": {},
   "outputs": [
    {
     "data": {
      "text/html": [
       "<div>\n",
       "<style scoped>\n",
       "    .dataframe tbody tr th:only-of-type {\n",
       "        vertical-align: middle;\n",
       "    }\n",
       "\n",
       "    .dataframe tbody tr th {\n",
       "        vertical-align: top;\n",
       "    }\n",
       "\n",
       "    .dataframe thead th {\n",
       "        text-align: right;\n",
       "    }\n",
       "</style>\n",
       "<table border=\"1\" class=\"dataframe\">\n",
       "  <thead>\n",
       "    <tr style=\"text-align: right;\">\n",
       "      <th></th>\n",
       "      <th>Id</th>\n",
       "      <th>MSSubClass</th>\n",
       "      <th>MSZoning</th>\n",
       "      <th>LotFrontage</th>\n",
       "      <th>LotArea</th>\n",
       "      <th>Street</th>\n",
       "      <th>Alley</th>\n",
       "      <th>LotShape</th>\n",
       "      <th>LandContour</th>\n",
       "      <th>Utilities</th>\n",
       "      <th>...</th>\n",
       "      <th>PoolArea</th>\n",
       "      <th>PoolQC</th>\n",
       "      <th>Fence</th>\n",
       "      <th>MiscFeature</th>\n",
       "      <th>MiscVal</th>\n",
       "      <th>MoSold</th>\n",
       "      <th>YrSold</th>\n",
       "      <th>SaleType</th>\n",
       "      <th>SaleCondition</th>\n",
       "      <th>SalePrice</th>\n",
       "    </tr>\n",
       "  </thead>\n",
       "  <tbody>\n",
       "    <tr>\n",
       "      <th>0</th>\n",
       "      <td>1</td>\n",
       "      <td>60</td>\n",
       "      <td>RL</td>\n",
       "      <td>65.0</td>\n",
       "      <td>8450</td>\n",
       "      <td>Pave</td>\n",
       "      <td>NaN</td>\n",
       "      <td>Reg</td>\n",
       "      <td>Lvl</td>\n",
       "      <td>AllPub</td>\n",
       "      <td>...</td>\n",
       "      <td>0</td>\n",
       "      <td>NaN</td>\n",
       "      <td>NaN</td>\n",
       "      <td>NaN</td>\n",
       "      <td>0</td>\n",
       "      <td>2</td>\n",
       "      <td>2008</td>\n",
       "      <td>WD</td>\n",
       "      <td>Normal</td>\n",
       "      <td>208500</td>\n",
       "    </tr>\n",
       "    <tr>\n",
       "      <th>1</th>\n",
       "      <td>2</td>\n",
       "      <td>20</td>\n",
       "      <td>RL</td>\n",
       "      <td>80.0</td>\n",
       "      <td>9600</td>\n",
       "      <td>Pave</td>\n",
       "      <td>NaN</td>\n",
       "      <td>Reg</td>\n",
       "      <td>Lvl</td>\n",
       "      <td>AllPub</td>\n",
       "      <td>...</td>\n",
       "      <td>0</td>\n",
       "      <td>NaN</td>\n",
       "      <td>NaN</td>\n",
       "      <td>NaN</td>\n",
       "      <td>0</td>\n",
       "      <td>5</td>\n",
       "      <td>2007</td>\n",
       "      <td>WD</td>\n",
       "      <td>Normal</td>\n",
       "      <td>181500</td>\n",
       "    </tr>\n",
       "    <tr>\n",
       "      <th>2</th>\n",
       "      <td>3</td>\n",
       "      <td>60</td>\n",
       "      <td>RL</td>\n",
       "      <td>68.0</td>\n",
       "      <td>11250</td>\n",
       "      <td>Pave</td>\n",
       "      <td>NaN</td>\n",
       "      <td>IR1</td>\n",
       "      <td>Lvl</td>\n",
       "      <td>AllPub</td>\n",
       "      <td>...</td>\n",
       "      <td>0</td>\n",
       "      <td>NaN</td>\n",
       "      <td>NaN</td>\n",
       "      <td>NaN</td>\n",
       "      <td>0</td>\n",
       "      <td>9</td>\n",
       "      <td>2008</td>\n",
       "      <td>WD</td>\n",
       "      <td>Normal</td>\n",
       "      <td>223500</td>\n",
       "    </tr>\n",
       "    <tr>\n",
       "      <th>3</th>\n",
       "      <td>4</td>\n",
       "      <td>70</td>\n",
       "      <td>RL</td>\n",
       "      <td>60.0</td>\n",
       "      <td>9550</td>\n",
       "      <td>Pave</td>\n",
       "      <td>NaN</td>\n",
       "      <td>IR1</td>\n",
       "      <td>Lvl</td>\n",
       "      <td>AllPub</td>\n",
       "      <td>...</td>\n",
       "      <td>0</td>\n",
       "      <td>NaN</td>\n",
       "      <td>NaN</td>\n",
       "      <td>NaN</td>\n",
       "      <td>0</td>\n",
       "      <td>2</td>\n",
       "      <td>2006</td>\n",
       "      <td>WD</td>\n",
       "      <td>Abnorml</td>\n",
       "      <td>140000</td>\n",
       "    </tr>\n",
       "    <tr>\n",
       "      <th>4</th>\n",
       "      <td>5</td>\n",
       "      <td>60</td>\n",
       "      <td>RL</td>\n",
       "      <td>84.0</td>\n",
       "      <td>14260</td>\n",
       "      <td>Pave</td>\n",
       "      <td>NaN</td>\n",
       "      <td>IR1</td>\n",
       "      <td>Lvl</td>\n",
       "      <td>AllPub</td>\n",
       "      <td>...</td>\n",
       "      <td>0</td>\n",
       "      <td>NaN</td>\n",
       "      <td>NaN</td>\n",
       "      <td>NaN</td>\n",
       "      <td>0</td>\n",
       "      <td>12</td>\n",
       "      <td>2008</td>\n",
       "      <td>WD</td>\n",
       "      <td>Normal</td>\n",
       "      <td>250000</td>\n",
       "    </tr>\n",
       "  </tbody>\n",
       "</table>\n",
       "<p>5 rows × 81 columns</p>\n",
       "</div>"
      ],
      "text/plain": [
       "   Id  MSSubClass MSZoning  LotFrontage  LotArea Street Alley LotShape  \\\n",
       "0   1          60       RL         65.0     8450   Pave   NaN      Reg   \n",
       "1   2          20       RL         80.0     9600   Pave   NaN      Reg   \n",
       "2   3          60       RL         68.0    11250   Pave   NaN      IR1   \n",
       "3   4          70       RL         60.0     9550   Pave   NaN      IR1   \n",
       "4   5          60       RL         84.0    14260   Pave   NaN      IR1   \n",
       "\n",
       "  LandContour Utilities  ... PoolArea PoolQC Fence MiscFeature MiscVal MoSold  \\\n",
       "0         Lvl    AllPub  ...        0    NaN   NaN         NaN       0      2   \n",
       "1         Lvl    AllPub  ...        0    NaN   NaN         NaN       0      5   \n",
       "2         Lvl    AllPub  ...        0    NaN   NaN         NaN       0      9   \n",
       "3         Lvl    AllPub  ...        0    NaN   NaN         NaN       0      2   \n",
       "4         Lvl    AllPub  ...        0    NaN   NaN         NaN       0     12   \n",
       "\n",
       "  YrSold  SaleType  SaleCondition  SalePrice  \n",
       "0   2008        WD         Normal     208500  \n",
       "1   2007        WD         Normal     181500  \n",
       "2   2008        WD         Normal     223500  \n",
       "3   2006        WD        Abnorml     140000  \n",
       "4   2008        WD         Normal     250000  \n",
       "\n",
       "[5 rows x 81 columns]"
      ]
     },
     "execution_count": 3,
     "metadata": {},
     "output_type": "execute_result"
    }
   ],
   "source": [
    "# Read the dataset into a dataframe\n",
    "df = pd.read_csv('train.csv')\n",
    "df.head()"
   ]
  },
  {
   "cell_type": "code",
   "execution_count": 4,
   "id": "unlike-vampire",
   "metadata": {},
   "outputs": [
    {
     "name": "stdout",
     "output_type": "stream",
     "text": [
      "<class 'pandas.core.frame.DataFrame'>\n",
      "RangeIndex: 1460 entries, 0 to 1459\n",
      "Data columns (total 81 columns):\n",
      " #   Column         Non-Null Count  Dtype  \n",
      "---  ------         --------------  -----  \n",
      " 0   Id             1460 non-null   int64  \n",
      " 1   MSSubClass     1460 non-null   int64  \n",
      " 2   MSZoning       1460 non-null   object \n",
      " 3   LotFrontage    1201 non-null   float64\n",
      " 4   LotArea        1460 non-null   int64  \n",
      " 5   Street         1460 non-null   object \n",
      " 6   Alley          91 non-null     object \n",
      " 7   LotShape       1460 non-null   object \n",
      " 8   LandContour    1460 non-null   object \n",
      " 9   Utilities      1460 non-null   object \n",
      " 10  LotConfig      1460 non-null   object \n",
      " 11  LandSlope      1460 non-null   object \n",
      " 12  Neighborhood   1460 non-null   object \n",
      " 13  Condition1     1460 non-null   object \n",
      " 14  Condition2     1460 non-null   object \n",
      " 15  BldgType       1460 non-null   object \n",
      " 16  HouseStyle     1460 non-null   object \n",
      " 17  OverallQual    1460 non-null   int64  \n",
      " 18  OverallCond    1460 non-null   int64  \n",
      " 19  YearBuilt      1460 non-null   int64  \n",
      " 20  YearRemodAdd   1460 non-null   int64  \n",
      " 21  RoofStyle      1460 non-null   object \n",
      " 22  RoofMatl       1460 non-null   object \n",
      " 23  Exterior1st    1460 non-null   object \n",
      " 24  Exterior2nd    1460 non-null   object \n",
      " 25  MasVnrType     1452 non-null   object \n",
      " 26  MasVnrArea     1452 non-null   float64\n",
      " 27  ExterQual      1460 non-null   object \n",
      " 28  ExterCond      1460 non-null   object \n",
      " 29  Foundation     1460 non-null   object \n",
      " 30  BsmtQual       1423 non-null   object \n",
      " 31  BsmtCond       1423 non-null   object \n",
      " 32  BsmtExposure   1422 non-null   object \n",
      " 33  BsmtFinType1   1423 non-null   object \n",
      " 34  BsmtFinSF1     1460 non-null   int64  \n",
      " 35  BsmtFinType2   1422 non-null   object \n",
      " 36  BsmtFinSF2     1460 non-null   int64  \n",
      " 37  BsmtUnfSF      1460 non-null   int64  \n",
      " 38  TotalBsmtSF    1460 non-null   int64  \n",
      " 39  Heating        1460 non-null   object \n",
      " 40  HeatingQC      1460 non-null   object \n",
      " 41  CentralAir     1460 non-null   object \n",
      " 42  Electrical     1459 non-null   object \n",
      " 43  1stFlrSF       1460 non-null   int64  \n",
      " 44  2ndFlrSF       1460 non-null   int64  \n",
      " 45  LowQualFinSF   1460 non-null   int64  \n",
      " 46  GrLivArea      1460 non-null   int64  \n",
      " 47  BsmtFullBath   1460 non-null   int64  \n",
      " 48  BsmtHalfBath   1460 non-null   int64  \n",
      " 49  FullBath       1460 non-null   int64  \n",
      " 50  HalfBath       1460 non-null   int64  \n",
      " 51  BedroomAbvGr   1460 non-null   int64  \n",
      " 52  KitchenAbvGr   1460 non-null   int64  \n",
      " 53  KitchenQual    1460 non-null   object \n",
      " 54  TotRmsAbvGrd   1460 non-null   int64  \n",
      " 55  Functional     1460 non-null   object \n",
      " 56  Fireplaces     1460 non-null   int64  \n",
      " 57  FireplaceQu    770 non-null    object \n",
      " 58  GarageType     1379 non-null   object \n",
      " 59  GarageYrBlt    1379 non-null   float64\n",
      " 60  GarageFinish   1379 non-null   object \n",
      " 61  GarageCars     1460 non-null   int64  \n",
      " 62  GarageArea     1460 non-null   int64  \n",
      " 63  GarageQual     1379 non-null   object \n",
      " 64  GarageCond     1379 non-null   object \n",
      " 65  PavedDrive     1460 non-null   object \n",
      " 66  WoodDeckSF     1460 non-null   int64  \n",
      " 67  OpenPorchSF    1460 non-null   int64  \n",
      " 68  EnclosedPorch  1460 non-null   int64  \n",
      " 69  3SsnPorch      1460 non-null   int64  \n",
      " 70  ScreenPorch    1460 non-null   int64  \n",
      " 71  PoolArea       1460 non-null   int64  \n",
      " 72  PoolQC         7 non-null      object \n",
      " 73  Fence          281 non-null    object \n",
      " 74  MiscFeature    54 non-null     object \n",
      " 75  MiscVal        1460 non-null   int64  \n",
      " 76  MoSold         1460 non-null   int64  \n",
      " 77  YrSold         1460 non-null   int64  \n",
      " 78  SaleType       1460 non-null   object \n",
      " 79  SaleCondition  1460 non-null   object \n",
      " 80  SalePrice      1460 non-null   int64  \n",
      "dtypes: float64(3), int64(35), object(43)\n",
      "memory usage: 924.0+ KB\n"
     ]
    }
   ],
   "source": [
    "# Inspect the data types of the columns in the DataFrame\n",
    "df.info()"
   ]
  },
  {
   "cell_type": "code",
   "execution_count": 5,
   "id": "altered-collaboration",
   "metadata": {},
   "outputs": [],
   "source": [
    "# The dependent variable is the 'SalePrice'\n",
    "\n",
    "# '79 explanatory variables describing (almost) every aspect of residential homes in Ames, Iowa, \n",
    "# this challenge is to predict the final price of each home'"
   ]
  },
  {
   "cell_type": "code",
   "execution_count": 9,
   "id": "convenient-atlas",
   "metadata": {},
   "outputs": [
    {
     "data": {
      "text/plain": [
       "6965"
      ]
     },
     "execution_count": 9,
     "metadata": {},
     "output_type": "execute_result"
    }
   ],
   "source": [
    "# Checking for missing values\n",
    "df.isnull().sum().sum()"
   ]
  },
  {
   "cell_type": "code",
   "execution_count": null,
   "id": "ecological-timeline",
   "metadata": {},
   "outputs": [],
   "source": [
    "# Data Cleaning & Transformation\n",
    "# Check each column with missing values and figure out how to deal with it."
   ]
  },
  {
   "cell_type": "code",
   "execution_count": 11,
   "id": "electoral-attempt",
   "metadata": {},
   "outputs": [
    {
     "data": {
      "text/plain": [
       "259"
      ]
     },
     "execution_count": 11,
     "metadata": {},
     "output_type": "execute_result"
    }
   ],
   "source": [
    "# 1.LotFrontage - Linear feet of street connected to property\n",
    "df['LotFrontage'].isnull().sum()"
   ]
  },
  {
   "cell_type": "code",
   "execution_count": 12,
   "id": "polyphonic-runner",
   "metadata": {},
   "outputs": [
    {
     "data": {
      "text/plain": [
       "dtype('float64')"
      ]
     },
     "execution_count": 12,
     "metadata": {},
     "output_type": "execute_result"
    }
   ],
   "source": [
    "df['LotFrontage'].dtypes"
   ]
  },
  {
   "cell_type": "code",
   "execution_count": 13,
   "id": "religious-philadelphia",
   "metadata": {},
   "outputs": [
    {
     "data": {
      "text/plain": [
       "0    65.0\n",
       "1    80.0\n",
       "2    68.0\n",
       "3    60.0\n",
       "4    84.0\n",
       "Name: LotFrontage, dtype: float64"
      ]
     },
     "execution_count": 13,
     "metadata": {},
     "output_type": "execute_result"
    }
   ],
   "source": [
    "df['LotFrontage'].head()"
   ]
  },
  {
   "cell_type": "code",
   "execution_count": 14,
   "id": "distant-buyer",
   "metadata": {},
   "outputs": [
    {
     "data": {
      "text/plain": [
       "count    1201.000000\n",
       "mean       70.049958\n",
       "std        24.284752\n",
       "min        21.000000\n",
       "25%        59.000000\n",
       "50%        69.000000\n",
       "75%        80.000000\n",
       "max       313.000000\n",
       "Name: LotFrontage, dtype: float64"
      ]
     },
     "execution_count": 14,
     "metadata": {},
     "output_type": "execute_result"
    }
   ],
   "source": [
    "df['LotFrontage'].describe()"
   ]
  },
  {
   "cell_type": "code",
   "execution_count": 15,
   "id": "determined-candy",
   "metadata": {},
   "outputs": [
    {
     "data": {
      "text/plain": [
       "69.0"
      ]
     },
     "execution_count": 15,
     "metadata": {},
     "output_type": "execute_result"
    }
   ],
   "source": [
    "df['LotFrontage'].median()"
   ]
  },
  {
   "cell_type": "code",
   "execution_count": 24,
   "id": "contrary-adobe",
   "metadata": {},
   "outputs": [
    {
     "data": {
      "text/plain": [
       "60.0"
      ]
     },
     "execution_count": 24,
     "metadata": {},
     "output_type": "execute_result"
    }
   ],
   "source": [
    "df['LotFrontage'].mode()"
   ]
  },
  {
   "cell_type": "code",
   "execution_count": 19,
   "id": "confident-basement",
   "metadata": {},
   "outputs": [
    {
     "data": {
      "text/plain": [
       "<seaborn.axisgrid.FacetGrid at 0x128bcedc0>"
      ]
     },
     "execution_count": 19,
     "metadata": {},
     "output_type": "execute_result"
    },
    {
     "data": {
      "image/png": "[encoded data removed]",
      "text/plain": [
       "<Figure size 360x360 with 1 Axes>"
      ]
     },
     "metadata": {
      "needs_background": "light"
     },
     "output_type": "display_data"
    }
   ],
   "source": [
    "LotFrontage = df['LotFrontage']\n",
    "sns.displot(data=df, x='LotFrontage')"
   ]
  },
  {
   "cell_type": "code",
   "execution_count": 25,
   "id": "breathing-event",
   "metadata": {},
   "outputs": [],
   "source": [
    "# 18% of the data in LotFrontage is missing\n",
    "# The median of the distribution is 69, mean is 70 and mode is 60\n",
    "# I'll use the mode to fill the missing values because 60 appears over 175 times\n",
    "df['LotFrontage'].fillna(df['LotFrontage'].mode()[0], inplace=True)"
   ]
  },
  {
   "cell_type": "code",
   "execution_count": 26,
   "id": "pleasant-positive",
   "metadata": {},
   "outputs": [
    {
     "data": {
      "text/plain": [
       "0"
      ]
     },
     "execution_count": 26,
     "metadata": {},
     "output_type": "execute_result"
    }
   ],
   "source": [
    "df['LotFrontage'].isnull().sum()"
   ]
  },
  {
   "cell_type": "code",
   "execution_count": 27,
   "id": "second-duncan",
   "metadata": {},
   "outputs": [
    {
     "data": {
      "text/plain": [
       "1369"
      ]
     },
     "execution_count": 27,
     "metadata": {},
     "output_type": "execute_result"
    }
   ],
   "source": [
    "# 2.Alley - Type of alley access\n",
    "df['Alley'].isnull().sum()"
   ]
  },
  {
   "cell_type": "code",
   "execution_count": 28,
   "id": "sufficient-occasions",
   "metadata": {},
   "outputs": [
    {
     "data": {
      "text/plain": [
       "0    NaN\n",
       "1    NaN\n",
       "2    NaN\n",
       "3    NaN\n",
       "4    NaN\n",
       "5    NaN\n",
       "6    NaN\n",
       "7    NaN\n",
       "8    NaN\n",
       "9    NaN\n",
       "Name: Alley, dtype: object"
      ]
     },
     "execution_count": 28,
     "metadata": {},
     "output_type": "execute_result"
    }
   ],
   "source": [
    "df['Alley'].head(10)"
   ]
  },
  {
   "cell_type": "code",
   "execution_count": null,
   "id": "spread-apple",
   "metadata": {},
   "outputs": [],
   "source": [
    "# 94% percent of the data is missing \n",
    "# Does an alley access significantly influence sales price of a house in Iowa?\n",
    "# Because of the significant number of missing values, I'll drop the column"
   ]
  },
  {
   "cell_type": "code",
   "execution_count": 29,
   "id": "organized-contract",
   "metadata": {},
   "outputs": [],
   "source": [
    "df.drop(columns=['Alley'], axis=1, inplace=True)"
   ]
  },
  {
   "cell_type": "code",
   "execution_count": 39,
   "id": "moderate-sperm",
   "metadata": {},
   "outputs": [
    {
     "data": {
      "text/plain": [
       "False    1452\n",
       "True        8\n",
       "Name: MasVnrType, dtype: int64"
      ]
     },
     "execution_count": 39,
     "metadata": {},
     "output_type": "execute_result"
    }
   ],
   "source": [
    "# 3. MasVnrType - Masonry veneer type\n",
    "df['MasVnrType'].isnull().value_counts()"
   ]
  },
  {
   "cell_type": "code",
   "execution_count": 33,
   "id": "assisted-block",
   "metadata": {},
   "outputs": [
    {
     "data": {
      "text/plain": [
       "0    BrkFace\n",
       "1       None\n",
       "2    BrkFace\n",
       "3       None\n",
       "4    BrkFace\n",
       "5       None\n",
       "6      Stone\n",
       "7      Stone\n",
       "8       None\n",
       "9       None\n",
       "Name: MasVnrType, dtype: object"
      ]
     },
     "execution_count": 33,
     "metadata": {},
     "output_type": "execute_result"
    }
   ],
   "source": [
    "df['MasVnrType'].head(10)"
   ]
  },
  {
   "cell_type": "code",
   "execution_count": 34,
   "id": "champion-signal",
   "metadata": {},
   "outputs": [
    {
     "data": {
      "text/plain": [
       "<AxesSubplot:xlabel='MasVnrType', ylabel='count'>"
      ]
     },
     "execution_count": 34,
     "metadata": {},
     "output_type": "execute_result"
    },
    {
     "data": {
      "image/png": "[encoded data removed]",
      "text/plain": [
       "<Figure size 432x288 with 1 Axes>"
      ]
     },
     "metadata": {
      "needs_background": "light"
     },
     "output_type": "display_data"
    }
   ],
   "source": [
    "sns.countplot(x='MasVnrType', data=df)"
   ]
  },
  {
   "cell_type": "code",
   "execution_count": 40,
   "id": "gentle-quilt",
   "metadata": {},
   "outputs": [
    {
     "data": {
      "text/plain": [
       "'None'"
      ]
     },
     "execution_count": 40,
     "metadata": {},
     "output_type": "execute_result"
    }
   ],
   "source": [
    "df['MasVnrType'].mode()"
   ]
  },
  {
   "cell_type": "code",
   "execution_count": 41,
   "id": "acknowledged-design",
   "metadata": {},
   "outputs": [],
   "source": [
    "# What is the probability that the MasVnr Type is None where 60% of the types in the distribution is None\n",
    "# .60%\n",
    "# I'll fill the missing 8 with the None type\n",
    "df['MasVnrType'].fillna(df['MasVnrType'].mode()[0], inplace=True)"
   ]
  },
  {
   "cell_type": "code",
   "execution_count": 42,
   "id": "necessary-royalty",
   "metadata": {},
   "outputs": [
    {
     "data": {
      "text/plain": [
       "False    1460\n",
       "Name: MasVnrType, dtype: int64"
      ]
     },
     "execution_count": 42,
     "metadata": {},
     "output_type": "execute_result"
    }
   ],
   "source": [
    "df['MasVnrType'].isnull().value_counts()"
   ]
  },
  {
   "cell_type": "code",
   "execution_count": 43,
   "id": "motivated-default",
   "metadata": {},
   "outputs": [
    {
     "data": {
      "text/plain": [
       "False    1452\n",
       "True        8\n",
       "Name: MasVnrArea, dtype: int64"
      ]
     },
     "execution_count": 43,
     "metadata": {},
     "output_type": "execute_result"
    }
   ],
   "source": [
    "# 4. MasVnrArea - Masonry veneer area in square feet\n",
    "df['MasVnrArea'].isnull().value_counts()"
   ]
  },
  {
   "cell_type": "code",
   "execution_count": 44,
   "id": "hidden-community",
   "metadata": {},
   "outputs": [
    {
     "data": {
      "text/plain": [
       "0    196.0\n",
       "1      0.0\n",
       "2    162.0\n",
       "3      0.0\n",
       "4    350.0\n",
       "Name: MasVnrArea, dtype: float64"
      ]
     },
     "execution_count": 44,
     "metadata": {},
     "output_type": "execute_result"
    }
   ],
   "source": [
    "df['MasVnrArea'].head()"
   ]
  },
  {
   "cell_type": "code",
   "execution_count": 47,
   "id": "transsexual-nigeria",
   "metadata": {},
   "outputs": [
    {
     "data": {
      "text/plain": [
       "<seaborn.axisgrid.FacetGrid at 0x128d92fd0>"
      ]
     },
     "execution_count": 47,
     "metadata": {},
     "output_type": "execute_result"
    },
    {
     "data": {
      "image/png": "[encoded data removed]",
      "text/plain": [
       "<Figure size 360x360 with 1 Axes>"
      ]
     },
     "metadata": {
      "needs_background": "light"
     },
     "output_type": "display_data"
    }
   ],
   "source": [
    "sns.displot(data=df, x='MasVnrArea')"
   ]
  },
  {
   "cell_type": "code",
   "execution_count": 48,
   "id": "transparent-jewelry",
   "metadata": {},
   "outputs": [
    {
     "data": {
      "text/plain": [
       "count    1452.000000\n",
       "mean      103.685262\n",
       "std       181.066207\n",
       "min         0.000000\n",
       "25%         0.000000\n",
       "50%         0.000000\n",
       "75%       166.000000\n",
       "max      1600.000000\n",
       "Name: MasVnrArea, dtype: float64"
      ]
     },
     "execution_count": 48,
     "metadata": {},
     "output_type": "execute_result"
    }
   ],
   "source": [
    "df['MasVnrArea'].describe()"
   ]
  },
  {
   "cell_type": "code",
   "execution_count": 49,
   "id": "aboriginal-barrel",
   "metadata": {},
   "outputs": [
    {
     "data": {
      "text/plain": [
       "0.0"
      ]
     },
     "execution_count": 49,
     "metadata": {},
     "output_type": "execute_result"
    }
   ],
   "source": [
    "df['MasVnrArea'].median()"
   ]
  },
  {
   "cell_type": "code",
   "execution_count": 50,
   "id": "conditional-sugar",
   "metadata": {},
   "outputs": [],
   "source": [
    "# Just like MasVnrType, the MasVnrArea has 8 missing values. \n",
    "# The highest occurring value is 0.0(60%).\n",
    "# I use the mode to fill the missing values\n",
    "df['MasVnrArea'].fillna(df['MasVnrArea'].mode()[0], inplace=True)"
   ]
  },
  {
   "cell_type": "code",
   "execution_count": 51,
   "id": "adjacent-bonus",
   "metadata": {},
   "outputs": [
    {
     "data": {
      "text/plain": [
       "False    1460\n",
       "Name: MasVnrArea, dtype: int64"
      ]
     },
     "execution_count": 51,
     "metadata": {},
     "output_type": "execute_result"
    }
   ],
   "source": [
    "df['MasVnrArea'].isnull().value_counts()"
   ]
  },
  {
   "cell_type": "code",
   "execution_count": 52,
   "id": "latest-triangle",
   "metadata": {},
   "outputs": [
    {
     "data": {
      "text/plain": [
       "False    1423\n",
       "True       37\n",
       "Name: BsmtQual, dtype: int64"
      ]
     },
     "execution_count": 52,
     "metadata": {},
     "output_type": "execute_result"
    }
   ],
   "source": [
    "# 5. BsmtQual - Height of the basement\n",
    "df['BsmtQual'].isnull().value_counts()"
   ]
  },
  {
   "cell_type": "code",
   "execution_count": 54,
   "id": "stuck-italian",
   "metadata": {},
   "outputs": [
    {
     "data": {
      "text/plain": [
       "0    Gd\n",
       "1    Gd\n",
       "2    Gd\n",
       "3    TA\n",
       "4    Gd\n",
       "5    Gd\n",
       "6    Ex\n",
       "7    Gd\n",
       "8    TA\n",
       "9    TA\n",
       "Name: BsmtQual, dtype: object"
      ]
     },
     "execution_count": 54,
     "metadata": {},
     "output_type": "execute_result"
    }
   ],
   "source": [
    "df['BsmtQual'].head(10)"
   ]
  },
  {
   "cell_type": "code",
   "execution_count": null,
   "id": "linear-thanksgiving",
   "metadata": {},
   "outputs": [],
   "source": [
    "# The Basement is categorized.\n",
    "# Ex\tExcellent (100+ inches)\t\n",
    "# Gd\tGood (90-99 inches)\n",
    "# TA\tTypical (80-89 inches)\n",
    "# Fa\tFair (70-79 inches)\n",
    "# Po\tPoor (<70 inches\n",
    "# NA\tNo Basement "
   ]
  },
  {
   "cell_type": "code",
   "execution_count": 55,
   "id": "attempted-tract",
   "metadata": {},
   "outputs": [
    {
     "data": {
      "text/plain": [
       "<AxesSubplot:xlabel='BsmtQual', ylabel='count'>"
      ]
     },
     "execution_count": 55,
     "metadata": {},
     "output_type": "execute_result"
    },
    {
     "data": {
      "image/png": "[encoded data removed]",
      "text/plain": [
       "<Figure size 432x288 with 1 Axes>"
      ]
     },
     "metadata": {
      "needs_background": "light"
     },
     "output_type": "display_data"
    }
   ],
   "source": [
    "sns.countplot(x='BsmtQual', data=df)"
   ]
  },
  {
   "cell_type": "code",
   "execution_count": null,
   "id": "formed-jaguar",
   "metadata": {},
   "outputs": [],
   "source": [
    "# From the visualization, the  Good (90-99 inches) and Typical (80-89 inches) basement qualities have the highest \n",
    "# occurence.\n",
    "# So how do we deal with filling the missing values?"
   ]
  },
  {
   "cell_type": "code",
   "execution_count": 56,
   "id": "precious-lobby",
   "metadata": {},
   "outputs": [],
   "source": [
    "# I used the mode to fill the missing values\n",
    "df['BsmtQual'].fillna(df['BsmtQual'].mode()[0], inplace=True)"
   ]
  },
  {
   "cell_type": "code",
   "execution_count": 57,
   "id": "lesbian-organic",
   "metadata": {},
   "outputs": [
    {
     "data": {
      "text/plain": [
       "False    1460\n",
       "Name: BsmtQual, dtype: int64"
      ]
     },
     "execution_count": 57,
     "metadata": {},
     "output_type": "execute_result"
    }
   ],
   "source": [
    "df['BsmtQual'].isnull().value_counts()"
   ]
  },
  {
   "cell_type": "code",
   "execution_count": 58,
   "id": "exciting-review",
   "metadata": {},
   "outputs": [
    {
     "data": {
      "text/plain": [
       "0    TA\n",
       "1    TA\n",
       "2    TA\n",
       "3    Gd\n",
       "4    TA\n",
       "Name: BsmtCond, dtype: object"
      ]
     },
     "execution_count": 58,
     "metadata": {},
     "output_type": "execute_result"
    }
   ],
   "source": [
    "# 6. BsmtCond - General condition of the basement\n",
    "df['BsmtCond'].head()"
   ]
  },
  {
   "cell_type": "code",
   "execution_count": 59,
   "id": "focused-posting",
   "metadata": {},
   "outputs": [
    {
     "data": {
      "text/plain": [
       "False    1423\n",
       "True       37\n",
       "Name: BsmtCond, dtype: int64"
      ]
     },
     "execution_count": 59,
     "metadata": {},
     "output_type": "execute_result"
    }
   ],
   "source": [
    "df['BsmtCond'].isnull().value_counts()"
   ]
  },
  {
   "cell_type": "code",
   "execution_count": 60,
   "id": "discrete-invite",
   "metadata": {},
   "outputs": [
    {
     "data": {
      "text/plain": [
       "<AxesSubplot:xlabel='BsmtCond', ylabel='count'>"
      ]
     },
     "execution_count": 60,
     "metadata": {},
     "output_type": "execute_result"
    },
    {
     "data": {
      "image/png": "[encoded data removed]",
      "text/plain": [
       "<Figure size 432x288 with 1 Axes>"
      ]
     },
     "metadata": {
      "needs_background": "light"
     },
     "output_type": "display_data"
    }
   ],
   "source": [
    "sns.countplot(x='BsmtCond', data=df)"
   ]
  },
  {
   "cell_type": "code",
   "execution_count": 61,
   "id": "streaming-rehabilitation",
   "metadata": {},
   "outputs": [],
   "source": [
    "# The missing values in BsmtCond accounts for 2.5% of the population\n",
    "# The visualization of the distribution shows TA is highest occurring category.\n",
    "# I'll fill the missing values with TA\n",
    "df['BsmtCond'].fillna(df['BsmtCond'].mode()[0], inplace=True)"
   ]
  },
  {
   "cell_type": "code",
   "execution_count": 62,
   "id": "chinese-exercise",
   "metadata": {},
   "outputs": [
    {
     "data": {
      "text/plain": [
       "False    1460\n",
       "Name: BsmtCond, dtype: int64"
      ]
     },
     "execution_count": 62,
     "metadata": {},
     "output_type": "execute_result"
    }
   ],
   "source": [
    "df['BsmtCond'].isnull().value_counts()"
   ]
  },
  {
   "cell_type": "code",
   "execution_count": 63,
   "id": "pacific-respondent",
   "metadata": {},
   "outputs": [
    {
     "data": {
      "text/plain": [
       "0    No\n",
       "1    Gd\n",
       "2    Mn\n",
       "3    No\n",
       "4    Av\n",
       "Name: BsmtExposure, dtype: object"
      ]
     },
     "execution_count": 63,
     "metadata": {},
     "output_type": "execute_result"
    }
   ],
   "source": [
    "# 7. BsmtExposure - Walkout or garden level basement walls\n",
    "df['BsmtExposure'].head()"
   ]
  },
  {
   "cell_type": "code",
   "execution_count": null,
   "id": "defined-paragraph",
   "metadata": {},
   "outputs": [],
   "source": [
    "# BsmtExposure is a categorical data classified as the following:\n",
    "# Gd\tGood Exposure\n",
    "# Av\tAverage Exposure (split levels or foyers typically score average or above)\t\n",
    "# Mn\tMimimum Exposure\n",
    "# No\tNo Exposure\n",
    "# NA\tNo Basement"
   ]
  },
  {
   "cell_type": "code",
   "execution_count": 64,
   "id": "internal-evaluation",
   "metadata": {},
   "outputs": [
    {
     "data": {
      "text/plain": [
       "False    1422\n",
       "True       38\n",
       "Name: BsmtExposure, dtype: int64"
      ]
     },
     "execution_count": 64,
     "metadata": {},
     "output_type": "execute_result"
    }
   ],
   "source": [
    "df['BsmtExposure'].isnull().value_counts()"
   ]
  },
  {
   "cell_type": "code",
   "execution_count": 65,
   "id": "abandoned-smart",
   "metadata": {},
   "outputs": [
    {
     "data": {
      "text/plain": [
       "<AxesSubplot:xlabel='BsmtExposure', ylabel='count'>"
      ]
     },
     "execution_count": 65,
     "metadata": {},
     "output_type": "execute_result"
    },
    {
     "data": {
      "image/png": "[encoded data removed]",
      "text/plain": [
       "<Figure size 432x288 with 1 Axes>"
      ]
     },
     "metadata": {
      "needs_background": "light"
     },
     "output_type": "display_data"
    }
   ],
   "source": [
    "sns.countplot(x='BsmtExposure', data=df)"
   ]
  },
  {
   "cell_type": "code",
   "execution_count": null,
   "id": "higher-chuck",
   "metadata": {},
   "outputs": [],
   "source": [
    "# No Exposure takes over 60% of the whole category.\n",
    "# That means No Exposure is the mode.\n",
    "# Since No Exposure occurs the most, I will fill the missing \n",
    "#data using the mode."
   ]
  },
  {
   "cell_type": "code",
   "execution_count": 66,
   "id": "average-carry",
   "metadata": {},
   "outputs": [],
   "source": [
    "df['BsmtExposure'].fillna(df['BsmtExposure'].mode()[0], inplace=True)"
   ]
  },
  {
   "cell_type": "code",
   "execution_count": 67,
   "id": "english-strain",
   "metadata": {},
   "outputs": [
    {
     "data": {
      "text/plain": [
       "False    1460\n",
       "Name: BsmtExposure, dtype: int64"
      ]
     },
     "execution_count": 67,
     "metadata": {},
     "output_type": "execute_result"
    }
   ],
   "source": [
    "df['BsmtExposure'].isnull().value_counts()"
   ]
  },
  {
   "cell_type": "code",
   "execution_count": 68,
   "id": "distinguished-active",
   "metadata": {},
   "outputs": [
    {
     "data": {
      "text/plain": [
       "0    GLQ\n",
       "1    ALQ\n",
       "2    GLQ\n",
       "3    ALQ\n",
       "4    GLQ\n",
       "Name: BsmtFinType1, dtype: object"
      ]
     },
     "execution_count": 68,
     "metadata": {},
     "output_type": "execute_result"
    }
   ],
   "source": [
    "# 8. BsmtFinType1 - Rating of basement finished area\n",
    "df['BsmtFinType1'].head()"
   ]
  },
  {
   "cell_type": "code",
   "execution_count": null,
   "id": "mineral-damages",
   "metadata": {},
   "outputs": [],
   "source": [
    "# BsmtFinType1 is a categorical data. It classified into the following:\n",
    "# GLQ\tGood Living Quarters\n",
    "# ALQ\tAverage Living Quarters\n",
    "# BLQ\tBelow Average Living Quarters\t\n",
    "# Rec\tAverage Rec Room\n",
    "# LwQ\tLow Quality\n",
    "# Unf\tUnfinshed\n",
    "# NA\tNo Basement"
   ]
  },
  {
   "cell_type": "code",
   "execution_count": 70,
   "id": "supreme-elder",
   "metadata": {},
   "outputs": [
    {
     "data": {
      "text/plain": [
       "False    1423\n",
       "True       37\n",
       "Name: BsmtFinType1, dtype: int64"
      ]
     },
     "execution_count": 70,
     "metadata": {},
     "output_type": "execute_result"
    }
   ],
   "source": [
    "df['BsmtFinType1'].isnull().value_counts()"
   ]
  },
  {
   "cell_type": "code",
   "execution_count": 71,
   "id": "productive-banana",
   "metadata": {},
   "outputs": [
    {
     "data": {
      "text/plain": [
       "<AxesSubplot:xlabel='BsmtFinType1', ylabel='count'>"
      ]
     },
     "execution_count": 71,
     "metadata": {},
     "output_type": "execute_result"
    },
    {
     "data": {
      "image/png": "[encoded data removed]",
      "text/plain": [
       "<Figure size 432x288 with 1 Axes>"
      ]
     },
     "metadata": {
      "needs_background": "light"
     },
     "output_type": "display_data"
    }
   ],
   "source": [
    "sns.countplot(x='BsmtFinType1', data=df)"
   ]
  },
  {
   "cell_type": "code",
   "execution_count": 72,
   "id": "simplified-penalty",
   "metadata": {},
   "outputs": [],
   "source": [
    "# Unf Unfinished category is the value that appears most frequently\n",
    "# The missing values make up 2.5% of the entire population of values\n",
    "# I will fill the missing values with the mode\n",
    "df['BsmtFinType1'].fillna(df['BsmtFinType1'].mode()[0], inplace=True)"
   ]
  },
  {
   "cell_type": "code",
   "execution_count": 73,
   "id": "invalid-evaluation",
   "metadata": {},
   "outputs": [
    {
     "data": {
      "text/plain": [
       "False    1460\n",
       "Name: BsmtFinType1, dtype: int64"
      ]
     },
     "execution_count": 73,
     "metadata": {},
     "output_type": "execute_result"
    }
   ],
   "source": [
    "df['BsmtFinType1'].isnull().value_counts()"
   ]
  },
  {
   "cell_type": "code",
   "execution_count": 74,
   "id": "distinguished-routine",
   "metadata": {},
   "outputs": [
    {
     "data": {
      "text/plain": [
       "0    Unf\n",
       "1    Unf\n",
       "2    Unf\n",
       "3    Unf\n",
       "4    Unf\n",
       "Name: BsmtFinType2, dtype: object"
      ]
     },
     "execution_count": 74,
     "metadata": {},
     "output_type": "execute_result"
    }
   ],
   "source": [
    "# 9. BsmtFinType2 - Rating of basement finished area (if multiple types)\n",
    "# This is a categorical data. It is classified by the following:\n",
    "# GLQ\tGood Living Quarters\n",
    "# ALQ\tAverage Living Quarters\n",
    "# BLQ\tBelow Average Living Quarters\t\n",
    "# Rec\tAverage Rec Room\n",
    "# LwQ\tLow Quality\n",
    "# Unf\tUnfinshed\n",
    "# NA\tNo Basement\n",
    "df['BsmtFinType2'].head()"
   ]
  },
  {
   "cell_type": "code",
   "execution_count": 75,
   "id": "elementary-wildlife",
   "metadata": {},
   "outputs": [
    {
     "data": {
      "text/plain": [
       "False    1422\n",
       "True       38\n",
       "Name: BsmtFinType2, dtype: int64"
      ]
     },
     "execution_count": 75,
     "metadata": {},
     "output_type": "execute_result"
    }
   ],
   "source": [
    "df['BsmtFinType2'].isnull().value_counts()"
   ]
  },
  {
   "cell_type": "code",
   "execution_count": 76,
   "id": "experienced-camera",
   "metadata": {},
   "outputs": [
    {
     "data": {
      "text/plain": [
       "<AxesSubplot:xlabel='BsmtFinType2', ylabel='count'>"
      ]
     },
     "execution_count": 76,
     "metadata": {},
     "output_type": "execute_result"
    },
    {
     "data": {
      "image/png": "[encoded data removed]",
      "text/plain": [
       "<Figure size 432x288 with 1 Axes>"
      ]
     },
     "metadata": {
      "needs_background": "light"
     },
     "output_type": "display_data"
    }
   ],
   "source": [
    "sns.countplot(x='BsmtFinType2', data=df)"
   ]
  },
  {
   "cell_type": "code",
   "execution_count": 77,
   "id": "simplified-absence",
   "metadata": {},
   "outputs": [],
   "source": [
    "# Over 88% of the categories in BsmtFinType2 fall under Unfinshed.\n",
    "# The probability of the Unfinished category being picked at random is over 65%\n",
    "# I'll use the mode to fill the missing values\n",
    "df['BsmtFinType2'].fillna(df['BsmtFinType2'].mode()[0],inplace=True)"
   ]
  },
  {
   "cell_type": "code",
   "execution_count": 79,
   "id": "planned-shore",
   "metadata": {},
   "outputs": [
    {
     "data": {
      "text/plain": [
       "False    1460\n",
       "Name: BsmtFinType2, dtype: int64"
      ]
     },
     "execution_count": 79,
     "metadata": {},
     "output_type": "execute_result"
    }
   ],
   "source": [
    "df['BsmtFinType2'].isnull().value_counts()"
   ]
  },
  {
   "cell_type": "code",
   "execution_count": 80,
   "id": "average-lloyd",
   "metadata": {},
   "outputs": [
    {
     "data": {
      "text/plain": [
       "0    SBrkr\n",
       "1    SBrkr\n",
       "2    SBrkr\n",
       "3    SBrkr\n",
       "4    SBrkr\n",
       "Name: Electrical, dtype: object"
      ]
     },
     "execution_count": 80,
     "metadata": {},
     "output_type": "execute_result"
    }
   ],
   "source": [
    "# 10. Electrical - Electrical system\n",
    "df['Electrical'].head()"
   ]
  },
  {
   "cell_type": "code",
   "execution_count": 81,
   "id": "reverse-switzerland",
   "metadata": {},
   "outputs": [
    {
     "data": {
      "text/plain": [
       "SBrkr    1334\n",
       "FuseA      94\n",
       "FuseF      27\n",
       "FuseP       3\n",
       "Mix         1\n",
       "Name: Electrical, dtype: int64"
      ]
     },
     "execution_count": 81,
     "metadata": {},
     "output_type": "execute_result"
    }
   ],
   "source": [
    "df['Electrical'].value_counts()"
   ]
  },
  {
   "cell_type": "code",
   "execution_count": null,
   "id": "extended-teach",
   "metadata": {},
   "outputs": [],
   "source": [
    "# Electrical is categorical data. It is classified by the following;\n",
    "# SBrkr\tStandard Circuit Breakers & Romex\n",
    "# FuseA\tFuse Box over 60 AMP and all Romex wiring (Average)\t\n",
    "# FuseF\t60 AMP Fuse Box and mostly Romex wiring (Fair)\n",
    "# FuseP\t60 AMP Fuse Box and mostly knob & tube wiring (poor)\n",
    "# Mix\tMixed"
   ]
  },
  {
   "cell_type": "code",
   "execution_count": 82,
   "id": "executed-announcement",
   "metadata": {},
   "outputs": [
    {
     "data": {
      "text/plain": [
       "<AxesSubplot:xlabel='Electrical', ylabel='count'>"
      ]
     },
     "execution_count": 82,
     "metadata": {},
     "output_type": "execute_result"
    },
    {
     "data": {
      "image/png": "[encoded data removed]",
      "text/plain": [
       "<Figure size 432x288 with 1 Axes>"
      ]
     },
     "metadata": {
      "needs_background": "light"
     },
     "output_type": "display_data"
    }
   ],
   "source": [
    "sns.countplot(x='Electrical', data=df)"
   ]
  },
  {
   "cell_type": "code",
   "execution_count": 83,
   "id": "cross-subscriber",
   "metadata": {},
   "outputs": [
    {
     "data": {
      "text/plain": [
       "False    1459\n",
       "True        1\n",
       "Name: Electrical, dtype: int64"
      ]
     },
     "execution_count": 83,
     "metadata": {},
     "output_type": "execute_result"
    }
   ],
   "source": [
    "df['Electrical'].isnull().value_counts()"
   ]
  },
  {
   "cell_type": "code",
   "execution_count": 84,
   "id": "impaired-cable",
   "metadata": {},
   "outputs": [],
   "source": [
    "# SBrkr\tStandard Circuit Breakers & Romex make up 91% of the values in the Electrical column\n",
    "# There's just a missing value.\n",
    "# I'll fill the missing value with SBrkr\n",
    "df['Electrical'].fillna(df['Electrical'].mode()[0], inplace=True)"
   ]
  },
  {
   "cell_type": "code",
   "execution_count": 85,
   "id": "brilliant-cross",
   "metadata": {},
   "outputs": [
    {
     "data": {
      "text/plain": [
       "False    1460\n",
       "Name: Electrical, dtype: int64"
      ]
     },
     "execution_count": 85,
     "metadata": {},
     "output_type": "execute_result"
    }
   ],
   "source": [
    "df['Electrical'].isnull().value_counts()"
   ]
  },
  {
   "cell_type": "code",
   "execution_count": 86,
   "id": "generous-jefferson",
   "metadata": {},
   "outputs": [
    {
     "data": {
      "text/plain": [
       "0    NaN\n",
       "1     TA\n",
       "2     TA\n",
       "3     Gd\n",
       "4     TA\n",
       "Name: FireplaceQu, dtype: object"
      ]
     },
     "execution_count": 86,
     "metadata": {},
     "output_type": "execute_result"
    }
   ],
   "source": [
    "# 11. FireplaceQu - Fireplace quality\n",
    "df['FireplaceQu'].head()"
   ]
  },
  {
   "cell_type": "code",
   "execution_count": null,
   "id": "simplified-blend",
   "metadata": {},
   "outputs": [],
   "source": [
    "# FireplaceQu is a categorical with the following classes;\n",
    "# Ex\tExcellent - Exceptional Masonry Fireplace\n",
    "# Gd\tGood - Masonry Fireplace in main level\n",
    "# TA\tAverage - Prefabricated Fireplace in main living area or Masonry Fireplace in basement\n",
    "# Fa\tFair - Prefabricated Fireplace in basement\n",
    "# Po\tPoor - Ben Franklin Stove\n",
    "# NA\tNo Fireplace"
   ]
  },
  {
   "cell_type": "code",
   "execution_count": 87,
   "id": "coral-projection",
   "metadata": {},
   "outputs": [
    {
     "data": {
      "text/plain": [
       "False    770\n",
       "True     690\n",
       "Name: FireplaceQu, dtype: int64"
      ]
     },
     "execution_count": 87,
     "metadata": {},
     "output_type": "execute_result"
    }
   ],
   "source": [
    "df['FireplaceQu'].isnull().value_counts()"
   ]
  },
  {
   "cell_type": "code",
   "execution_count": 88,
   "id": "apart-ordinance",
   "metadata": {
    "tags": []
   },
   "outputs": [
    {
     "data": {
      "text/plain": [
       "<AxesSubplot:xlabel='FireplaceQu', ylabel='count'>"
      ]
     },
     "execution_count": 88,
     "metadata": {},
     "output_type": "execute_result"
    },
    {
     "data": {
      "image/png": "[encoded data removed]",
      "text/plain": [
       "<Figure size 432x288 with 1 Axes>"
      ]
     },
     "metadata": {
      "needs_background": "light"
     },
     "output_type": "display_data"
    }
   ],
   "source": [
    "sns.countplot(x='FireplaceQu', data=)"
   ]
  },
  {
   "cell_type": "code",
   "execution_count": 89,
   "id": "following-original",
   "metadata": {},
   "outputs": [
    {
     "data": {
      "text/plain": [
       "Gd    380\n",
       "TA    313\n",
       "Fa     33\n",
       "Ex     24\n",
       "Po     20\n",
       "Name: FireplaceQu, dtype: int64"
      ]
     },
     "execution_count": 89,
     "metadata": {},
     "output_type": "execute_result"
    }
   ],
   "source": [
    "df['FireplaceQu'].value_counts()"
   ]
  },
  {
   "cell_type": "code",
   "execution_count": 90,
   "id": "starting-eclipse",
   "metadata": {},
   "outputs": [],
   "source": [
    "# 47% of the data are missing values\n",
    "# 47% of the values are either under the Good or Average class\n",
    "# How do I fill the missing values?\n",
    "# I'll use the mode for the first iteration.\n",
    "df['FireplaceQu'].fillna(df['FireplaceQu'].mode()[0], inplace=True)"
   ]
  },
  {
   "cell_type": "code",
   "execution_count": 91,
   "id": "direct-hello",
   "metadata": {},
   "outputs": [
    {
     "data": {
      "text/plain": [
       "False    1460\n",
       "Name: FireplaceQu, dtype: int64"
      ]
     },
     "execution_count": 91,
     "metadata": {},
     "output_type": "execute_result"
    }
   ],
   "source": [
    "df['FireplaceQu'].isnull().value_counts()"
   ]
  },
  {
   "cell_type": "code",
   "execution_count": 92,
   "id": "valid-portal",
   "metadata": {},
   "outputs": [
    {
     "data": {
      "text/plain": [
       "0    Attchd\n",
       "1    Attchd\n",
       "2    Attchd\n",
       "3    Detchd\n",
       "4    Attchd\n",
       "Name: GarageType, dtype: object"
      ]
     },
     "execution_count": 92,
     "metadata": {},
     "output_type": "execute_result"
    }
   ],
   "source": [
    "# 12. GarageType - Garage location\n",
    "df['GarageType'].head()"
   ]
  },
  {
   "cell_type": "code",
   "execution_count": 93,
   "id": "focused-explosion",
   "metadata": {},
   "outputs": [
    {
     "data": {
      "text/plain": [
       "False    1379\n",
       "True       81\n",
       "Name: GarageType, dtype: int64"
      ]
     },
     "execution_count": 93,
     "metadata": {},
     "output_type": "execute_result"
    }
   ],
   "source": [
    "df['GarageType'].isnull().value_counts()"
   ]
  },
  {
   "cell_type": "code",
   "execution_count": null,
   "id": "indonesian-jaguar",
   "metadata": {},
   "outputs": [],
   "source": [
    "# 5.5% of the data in this column is missing"
   ]
  },
  {
   "cell_type": "code",
   "execution_count": 94,
   "id": "hourly-duplicate",
   "metadata": {},
   "outputs": [
    {
     "data": {
      "text/plain": [
       "Attchd     870\n",
       "Detchd     387\n",
       "BuiltIn     88\n",
       "Basment     19\n",
       "CarPort      9\n",
       "2Types       6\n",
       "Name: GarageType, dtype: int64"
      ]
     },
     "execution_count": 94,
     "metadata": {},
     "output_type": "execute_result"
    }
   ],
   "source": [
    "df['GarageType'].value_counts()"
   ]
  },
  {
   "cell_type": "code",
   "execution_count": 95,
   "id": "designing-shore",
   "metadata": {},
   "outputs": [
    {
     "data": {
      "text/plain": [
       "<AxesSubplot:xlabel='GarageType', ylabel='count'>"
      ]
     },
     "execution_count": 95,
     "metadata": {},
     "output_type": "execute_result"
    },
    {
     "data": {
      "image/png": "[encoded data removed]",
      "text/plain": [
       "<Figure size 432x288 with 1 Axes>"
      ]
     },
     "metadata": {
      "needs_background": "light"
     },
     "output_type": "display_data"
    }
   ],
   "source": [
    "sns.countplot(x='GarageType', data=df)"
   ]
  },
  {
   "cell_type": "code",
   "execution_count": 96,
   "id": "accompanied-spider",
   "metadata": {},
   "outputs": [],
   "source": [
    "# Attchd makes 60% of the population values in GarageType.\n",
    "# What are the chances of 5.5% of the missing values being Attchd?\n",
    "# Again, I'll use the mode to fill the missing values\n",
    "df['GarageType'].fillna(df['GarageType'].mode()[0],inplace=True)"
   ]
  },
  {
   "cell_type": "code",
   "execution_count": 97,
   "id": "compact-springer",
   "metadata": {},
   "outputs": [
    {
     "data": {
      "text/plain": [
       "False    1460\n",
       "Name: GarageType, dtype: int64"
      ]
     },
     "execution_count": 97,
     "metadata": {},
     "output_type": "execute_result"
    }
   ],
   "source": [
    "df['GarageType'].isnull().value_counts()"
   ]
  },
  {
   "cell_type": "code",
   "execution_count": 98,
   "id": "processed-netscape",
   "metadata": {},
   "outputs": [
    {
     "data": {
      "text/plain": [
       "0    2003.0\n",
       "1    1976.0\n",
       "2    2001.0\n",
       "3    1998.0\n",
       "4    2000.0\n",
       "Name: GarageYrBlt, dtype: float64"
      ]
     },
     "execution_count": 98,
     "metadata": {},
     "output_type": "execute_result"
    }
   ],
   "source": [
    "# 13. GarageYrBlt - Year garage was built\n",
    "df['GarageYrBlt'].head()"
   ]
  },
  {
   "cell_type": "code",
   "execution_count": 99,
   "id": "enabling-complaint",
   "metadata": {},
   "outputs": [
    {
     "data": {
      "text/plain": [
       "False    1379\n",
       "True       81\n",
       "Name: GarageYrBlt, dtype: int64"
      ]
     },
     "execution_count": 99,
     "metadata": {},
     "output_type": "execute_result"
    }
   ],
   "source": [
    "df['GarageYrBlt'].isnull().value_counts()"
   ]
  },
  {
   "cell_type": "code",
   "execution_count": 112,
   "id": "gentle-coating",
   "metadata": {},
   "outputs": [
    {
     "data": {
      "text/plain": [
       "<AxesSubplot:xlabel='GarageYrBlt', ylabel='count'>"
      ]
     },
     "execution_count": 112,
     "metadata": {},
     "output_type": "execute_result"
    },
    {
     "data": {
      "image/png": "[encoded data removed]",
      "text/plain": [
       "<Figure size 1800x720 with 1 Axes>"
      ]
     },
     "metadata": {
      "needs_background": "light"
     },
     "output_type": "display_data"
    }
   ],
   "source": [
    "plt.subplots(figsize=(25, 10))\n",
    "plt.xticks(rotation=90)\n",
    "sns.countplot(x='GarageYrBlt', data=df)"
   ]
  },
  {
   "cell_type": "code",
   "execution_count": 117,
   "id": "cross-collapse",
   "metadata": {},
   "outputs": [
    {
     "data": {
      "text/plain": [
       "(1978.5061638868744, 1980.0, 2005.0)"
      ]
     },
     "execution_count": 117,
     "metadata": {},
     "output_type": "execute_result"
    }
   ],
   "source": [
    "# Let's find the mean, median & mode\n",
    "df['GarageYrBlt'].mean(), df['GarageYrBlt'].median(), df['GarageYrBlt'].mode()[0]"
   ]
  },
  {
   "cell_type": "code",
   "execution_count": 130,
   "id": "patient-dream",
   "metadata": {},
   "outputs": [],
   "source": [
    "# 5.5% of the GarageYrBlt is missing\n",
    "# The mean year makes for appr. 1.2% of the N population\n",
    "# The median year makes for appr. 1% of the N population\n",
    "# The mode year makes for appr. 4.5% of the N population\n",
    "# I'll fill the missing values with the mode\n",
    "df['GarageYrBlt'].fillna(df['GarageYrBlt'].mode()[0], inplace=True)"
   ]
  },
  {
   "cell_type": "code",
   "execution_count": 131,
   "id": "elementary-wilson",
   "metadata": {},
   "outputs": [
    {
     "data": {
      "text/plain": [
       "False    1460\n",
       "Name: GarageYrBlt, dtype: int64"
      ]
     },
     "execution_count": 131,
     "metadata": {},
     "output_type": "execute_result"
    }
   ],
   "source": [
    "df['GarageYrBlt'].isnull().value_counts()"
   ]
  },
  {
   "cell_type": "code",
   "execution_count": 132,
   "id": "continued-pilot",
   "metadata": {},
   "outputs": [
    {
     "data": {
      "text/plain": [
       "0    RFn\n",
       "1    RFn\n",
       "2    RFn\n",
       "3    Unf\n",
       "4    RFn\n",
       "Name: GarageFinish, dtype: object"
      ]
     },
     "execution_count": 132,
     "metadata": {},
     "output_type": "execute_result"
    }
   ],
   "source": [
    "# 14. GarageFinish - Interior finish of the garage\n",
    "df['GarageFinish'].head()"
   ]
  },
  {
   "cell_type": "code",
   "execution_count": null,
   "id": "ordinary-tunnel",
   "metadata": {},
   "outputs": [],
   "source": [
    "# GarageFinish is categorised into the following;\n",
    "# Fin\tFinished\n",
    "# RFn\tRough Finished\t\n",
    "# Unf\tUnfinished\n",
    "# NA\tNo Garage"
   ]
  },
  {
   "cell_type": "code",
   "execution_count": 134,
   "id": "laughing-glass",
   "metadata": {},
   "outputs": [
    {
     "data": {
      "text/plain": [
       "False    1379\n",
       "True       81\n",
       "Name: GarageFinish, dtype: int64"
      ]
     },
     "execution_count": 134,
     "metadata": {},
     "output_type": "execute_result"
    }
   ],
   "source": [
    "df['GarageFinish'].isnull().value_counts()"
   ]
  },
  {
   "cell_type": "code",
   "execution_count": 135,
   "id": "thousand-chain",
   "metadata": {},
   "outputs": [
    {
     "data": {
      "text/plain": [
       "Unf    605\n",
       "RFn    422\n",
       "Fin    352\n",
       "Name: GarageFinish, dtype: int64"
      ]
     },
     "execution_count": 135,
     "metadata": {},
     "output_type": "execute_result"
    }
   ],
   "source": [
    "df['GarageFinish'].value_counts()"
   ]
  },
  {
   "cell_type": "code",
   "execution_count": 136,
   "id": "incorporate-product",
   "metadata": {},
   "outputs": [],
   "source": [
    "# Missing values makes for appr. 5.4% of the N population\n",
    "# Unfinished = 41%\n",
    "# Rough Finished = 29%\n",
    "# Finished = 24%\n",
    "# Fill missing vales with Unfinished\n",
    "df['GarageFinish'].fillna(df['GarageFinish'].mode()[0], inplace=True)"
   ]
  },
  {
   "cell_type": "code",
   "execution_count": 137,
   "id": "concerned-sigma",
   "metadata": {},
   "outputs": [
    {
     "data": {
      "text/plain": [
       "False    1460\n",
       "Name: GarageFinish, dtype: int64"
      ]
     },
     "execution_count": 137,
     "metadata": {},
     "output_type": "execute_result"
    }
   ],
   "source": [
    "df['GarageFinish'].isnull().value_counts()"
   ]
  },
  {
   "cell_type": "code",
   "execution_count": 138,
   "id": "talented-credit",
   "metadata": {},
   "outputs": [
    {
     "data": {
      "text/plain": [
       "0    TA\n",
       "1    TA\n",
       "2    TA\n",
       "3    TA\n",
       "4    TA\n",
       "Name: GarageQual, dtype: object"
      ]
     },
     "execution_count": 138,
     "metadata": {},
     "output_type": "execute_result"
    }
   ],
   "source": [
    "# 15. GarageQual: Garage quality\n",
    "df['GarageQual'].head()"
   ]
  },
  {
   "cell_type": "code",
   "execution_count": null,
   "id": "faced-reality",
   "metadata": {},
   "outputs": [],
   "source": [
    "# GarageQual is categorised into the following;\n",
    "# Ex\tExcellent\n",
    "# Gd\tGood\n",
    "# TA\tTypical/Average\n",
    "# Fa\tFair\n",
    "# Po\tPoor\n",
    "# NA\tNo Garage"
   ]
  },
  {
   "cell_type": "code",
   "execution_count": 139,
   "id": "perceived-canyon",
   "metadata": {},
   "outputs": [
    {
     "data": {
      "text/plain": [
       "TA    1311\n",
       "Fa      48\n",
       "Gd      14\n",
       "Po       3\n",
       "Ex       3\n",
       "Name: GarageQual, dtype: int64"
      ]
     },
     "execution_count": 139,
     "metadata": {},
     "output_type": "execute_result"
    }
   ],
   "source": [
    "df['GarageQual'].value_counts()"
   ]
  },
  {
   "cell_type": "code",
   "execution_count": 140,
   "id": "occupational-sierra",
   "metadata": {},
   "outputs": [
    {
     "data": {
      "text/plain": [
       "False    1379\n",
       "True       81\n",
       "Name: GarageQual, dtype: int64"
      ]
     },
     "execution_count": 140,
     "metadata": {},
     "output_type": "execute_result"
    }
   ],
   "source": [
    "df['GarageQual'].isnull().value_counts()"
   ]
  },
  {
   "cell_type": "code",
   "execution_count": 141,
   "id": "urban-stewart",
   "metadata": {},
   "outputs": [],
   "source": [
    "# Typical/Average = 94% of the values\n",
    "# What are the chances that 1.2%(missing values) fall under Typical/Average?\n",
    "# I'll use the mode(TA) to fill the missing values\n",
    "df['GarageQual'].fillna(df['GarageQual'].mode()[0], inplace=True)"
   ]
  },
  {
   "cell_type": "code",
   "execution_count": 142,
   "id": "convinced-soviet",
   "metadata": {},
   "outputs": [
    {
     "data": {
      "text/plain": [
       "False    1460\n",
       "Name: GarageQual, dtype: int64"
      ]
     },
     "execution_count": 142,
     "metadata": {},
     "output_type": "execute_result"
    }
   ],
   "source": [
    "df['GarageQual'].isnull().value_counts()"
   ]
  },
  {
   "cell_type": "code",
   "execution_count": 143,
   "id": "massive-print",
   "metadata": {},
   "outputs": [
    {
     "data": {
      "text/plain": [
       "0    TA\n",
       "1    TA\n",
       "2    TA\n",
       "3    TA\n",
       "4    TA\n",
       "Name: GarageCond, dtype: object"
      ]
     },
     "execution_count": 143,
     "metadata": {},
     "output_type": "execute_result"
    }
   ],
   "source": [
    "# 16. GarageCond: Garage condition\n",
    "df['GarageCond'].head()"
   ]
  },
  {
   "cell_type": "code",
   "execution_count": 144,
   "id": "second-crash",
   "metadata": {},
   "outputs": [
    {
     "data": {
      "text/plain": [
       "TA    1326\n",
       "Fa      35\n",
       "Gd       9\n",
       "Po       7\n",
       "Ex       2\n",
       "Name: GarageCond, dtype: int64"
      ]
     },
     "execution_count": 144,
     "metadata": {},
     "output_type": "execute_result"
    }
   ],
   "source": [
    "df['GarageCond'].value_counts()"
   ]
  },
  {
   "cell_type": "code",
   "execution_count": 145,
   "id": "upper-parking",
   "metadata": {},
   "outputs": [
    {
     "data": {
      "text/plain": [
       "False    1379\n",
       "True       81\n",
       "Name: GarageCond, dtype: int64"
      ]
     },
     "execution_count": 145,
     "metadata": {},
     "output_type": "execute_result"
    }
   ],
   "source": [
    "df['GarageCond'].isnull().value_counts()"
   ]
  },
  {
   "cell_type": "code",
   "execution_count": 146,
   "id": "turned-nylon",
   "metadata": {},
   "outputs": [],
   "source": [
    "# I'll use the mode to fill the missing values\n",
    "df['GarageCond'].fillna(df['GarageCond'].mode()[0], inplace=True)"
   ]
  },
  {
   "cell_type": "code",
   "execution_count": 147,
   "id": "integral-nothing",
   "metadata": {},
   "outputs": [
    {
     "data": {
      "text/plain": [
       "False    1460\n",
       "Name: GarageCond, dtype: int64"
      ]
     },
     "execution_count": 147,
     "metadata": {},
     "output_type": "execute_result"
    }
   ],
   "source": [
    "df['GarageCond'].isnull().value_counts()"
   ]
  },
  {
   "cell_type": "code",
   "execution_count": 148,
   "id": "clean-intensity",
   "metadata": {},
   "outputs": [
    {
     "data": {
      "text/plain": [
       "0    NaN\n",
       "1    NaN\n",
       "2    NaN\n",
       "3    NaN\n",
       "4    NaN\n",
       "Name: PoolQC, dtype: object"
      ]
     },
     "execution_count": 148,
     "metadata": {},
     "output_type": "execute_result"
    }
   ],
   "source": [
    "# 17. PoolQC: Pool quality\n",
    "df['PoolQC'].head()"
   ]
  },
  {
   "cell_type": "code",
   "execution_count": 149,
   "id": "detailed-chick",
   "metadata": {},
   "outputs": [
    {
     "data": {
      "text/plain": [
       "Gd    3\n",
       "Ex    2\n",
       "Fa    2\n",
       "Name: PoolQC, dtype: int64"
      ]
     },
     "execution_count": 149,
     "metadata": {},
     "output_type": "execute_result"
    }
   ],
   "source": [
    "df['PoolQC'].value_counts()"
   ]
  },
  {
   "cell_type": "code",
   "execution_count": 150,
   "id": "federal-malpractice",
   "metadata": {},
   "outputs": [
    {
     "data": {
      "text/plain": [
       "True     1453\n",
       "False       7\n",
       "Name: PoolQC, dtype: int64"
      ]
     },
     "execution_count": 150,
     "metadata": {},
     "output_type": "execute_result"
    }
   ],
   "source": [
    "df['PoolQC'].isnull().value_counts()"
   ]
  },
  {
   "cell_type": "code",
   "execution_count": 152,
   "id": "sexual-renaissance",
   "metadata": {},
   "outputs": [],
   "source": [
    "# PoolQC is categorised into;\n",
    "# Ex\tExcellent\n",
    "# Gd\tGood\n",
    "# TA\tAverage/Typical\n",
    "# Fa\tFair\n",
    "# NA\tNo Pool\n",
    "\n",
    "# However, 99% of the column has missing values😕\n",
    "# Ofcourse, not all houses have swimming pools\n",
    "# Could it be that Iowa's weather does not encourage having swimming pools?\n",
    "# I'll create a new category(NA), convert the NaN to NA and fill the new category with the NA"
   ]
  },
  {
   "cell_type": "code",
   "execution_count": 166,
   "id": "analyzed-poultry",
   "metadata": {},
   "outputs": [
    {
     "data": {
      "text/plain": [
       "Gd    3\n",
       "Ex    2\n",
       "Fa    2\n",
       "Name: PoolQC, dtype: int64"
      ]
     },
     "execution_count": 166,
     "metadata": {},
     "output_type": "execute_result"
    }
   ],
   "source": [
    "df['PoolQC'].value_counts()"
   ]
  },
  {
   "cell_type": "code",
   "execution_count": 184,
   "id": "another-petersburg",
   "metadata": {},
   "outputs": [],
   "source": [
    "na = 'NA'"
   ]
  },
  {
   "cell_type": "code",
   "execution_count": 187,
   "id": "located-kennedy",
   "metadata": {},
   "outputs": [],
   "source": [
    "df['PoolQC'].fillna(na, inplace=True)"
   ]
  },
  {
   "cell_type": "code",
   "execution_count": 188,
   "id": "incident-flight",
   "metadata": {},
   "outputs": [
    {
     "data": {
      "text/plain": [
       "NA    1453\n",
       "Gd       3\n",
       "Ex       2\n",
       "Fa       2\n",
       "Name: PoolQC, dtype: int64"
      ]
     },
     "execution_count": 188,
     "metadata": {},
     "output_type": "execute_result"
    }
   ],
   "source": [
    "df['PoolQC'].value_counts()"
   ]
  },
  {
   "cell_type": "code",
   "execution_count": 189,
   "id": "weighted-newfoundland",
   "metadata": {},
   "outputs": [
    {
     "data": {
      "text/plain": [
       "False    1460\n",
       "Name: PoolQC, dtype: int64"
      ]
     },
     "execution_count": 189,
     "metadata": {},
     "output_type": "execute_result"
    }
   ],
   "source": [
    "df['PoolQC'].isnull().value_counts()"
   ]
  },
  {
   "cell_type": "code",
   "execution_count": 190,
   "id": "satellite-register",
   "metadata": {},
   "outputs": [
    {
     "data": {
      "text/plain": [
       "0    NaN\n",
       "1    NaN\n",
       "2    NaN\n",
       "3    NaN\n",
       "4    NaN\n",
       "Name: Fence, dtype: object"
      ]
     },
     "execution_count": 190,
     "metadata": {},
     "output_type": "execute_result"
    }
   ],
   "source": [
    "# 18. Fence: Fence quality\n",
    "df['Fence'].head()"
   ]
  },
  {
   "cell_type": "code",
   "execution_count": null,
   "id": "qualified-obligation",
   "metadata": {},
   "outputs": [],
   "source": [
    "# Fence is categorised into;\n",
    "# GdPrv\tGood Privacy\n",
    "# MnPrv Minimum Privacy\n",
    "# GdWo  Good Wood\n",
    "# MnWw\tMinimum Wood/Wire\n",
    "# NA\tNo Fence"
   ]
  },
  {
   "cell_type": "code",
   "execution_count": 191,
   "id": "general-prison",
   "metadata": {},
   "outputs": [
    {
     "data": {
      "text/plain": [
       "MnPrv    157\n",
       "GdPrv     59\n",
       "GdWo      54\n",
       "MnWw      11\n",
       "Name: Fence, dtype: int64"
      ]
     },
     "execution_count": 191,
     "metadata": {},
     "output_type": "execute_result"
    }
   ],
   "source": [
    "df['Fence'].value_counts()"
   ]
  },
  {
   "cell_type": "code",
   "execution_count": 192,
   "id": "going-measurement",
   "metadata": {},
   "outputs": [
    {
     "data": {
      "text/plain": [
       "True     1179\n",
       "False     281\n",
       "Name: Fence, dtype: int64"
      ]
     },
     "execution_count": 192,
     "metadata": {},
     "output_type": "execute_result"
    }
   ],
   "source": [
    "df['Fence'].isnull().value_counts()"
   ]
  },
  {
   "cell_type": "code",
   "execution_count": 193,
   "id": "entire-spiritual",
   "metadata": {},
   "outputs": [],
   "source": [
    "# 81% of the data are missing values\n",
    "# Let's assume(for now) that the missing values means No Fences\n",
    "df['Fence'].fillna(na, inplace=True)"
   ]
  },
  {
   "cell_type": "code",
   "execution_count": 194,
   "id": "periodic-preference",
   "metadata": {},
   "outputs": [
    {
     "data": {
      "text/plain": [
       "False    1460\n",
       "Name: Fence, dtype: int64"
      ]
     },
     "execution_count": 194,
     "metadata": {},
     "output_type": "execute_result"
    }
   ],
   "source": [
    "df['Fence'].isnull().value_counts()"
   ]
  },
  {
   "cell_type": "code",
   "execution_count": 195,
   "id": "dress-jonathan",
   "metadata": {},
   "outputs": [
    {
     "data": {
      "text/plain": [
       "0    NaN\n",
       "1    NaN\n",
       "2    NaN\n",
       "3    NaN\n",
       "4    NaN\n",
       "Name: MiscFeature, dtype: object"
      ]
     },
     "execution_count": 195,
     "metadata": {},
     "output_type": "execute_result"
    }
   ],
   "source": [
    "# 19. MiscFeature: Miscellaneous feature not covered in other categories\n",
    "df['MiscFeature'].head()"
   ]
  },
  {
   "cell_type": "code",
   "execution_count": 196,
   "id": "simplified-championship",
   "metadata": {},
   "outputs": [
    {
     "data": {
      "text/plain": [
       "Shed    49\n",
       "Othr     2\n",
       "Gar2     2\n",
       "TenC     1\n",
       "Name: MiscFeature, dtype: int64"
      ]
     },
     "execution_count": 196,
     "metadata": {},
     "output_type": "execute_result"
    }
   ],
   "source": [
    "df['MiscFeature'].value_counts()"
   ]
  },
  {
   "cell_type": "code",
   "execution_count": null,
   "id": "center-panama",
   "metadata": {},
   "outputs": [],
   "source": [
    "# MiscFeature is categorised into;\n",
    "# Elev\tElevator\n",
    "# Gar2\t2nd Garage (if not described in garage section)\n",
    "# Othr\tOther\n",
    "# Shed\tShed (over 100 SF)\n",
    "# TenC\tTennis Court\n",
    "# NA\tNone"
   ]
  },
  {
   "cell_type": "code",
   "execution_count": 198,
   "id": "organized-magnitude",
   "metadata": {},
   "outputs": [
    {
     "data": {
      "text/plain": [
       "True     1406\n",
       "False      54\n",
       "Name: MiscFeature, dtype: int64"
      ]
     },
     "execution_count": 198,
     "metadata": {},
     "output_type": "execute_result"
    }
   ],
   "source": [
    "df['MiscFeature'].isnull().value_counts()"
   ]
  },
  {
   "cell_type": "code",
   "execution_count": 199,
   "id": "listed-software",
   "metadata": {},
   "outputs": [],
   "source": [
    "# 99% are missing values\n",
    "# Let's assume(for now) that None of these feature exist. Hence, None.\n",
    "df['MiscFeature'].fillna(na, inplace=True)"
   ]
  },
  {
   "cell_type": "code",
   "execution_count": 200,
   "id": "wrong-amber",
   "metadata": {},
   "outputs": [
    {
     "data": {
      "text/plain": [
       "False    1460\n",
       "Name: MiscFeature, dtype: int64"
      ]
     },
     "execution_count": 200,
     "metadata": {},
     "output_type": "execute_result"
    }
   ],
   "source": [
    "df['MiscFeature'].isnull().value_counts()"
   ]
  },
  {
   "cell_type": "code",
   "execution_count": 201,
   "id": "anonymous-oregon",
   "metadata": {},
   "outputs": [
    {
     "name": "stdout",
     "output_type": "stream",
     "text": [
      "<class 'pandas.core.frame.DataFrame'>\n",
      "RangeIndex: 1460 entries, 0 to 1459\n",
      "Data columns (total 80 columns):\n",
      " #   Column         Non-Null Count  Dtype  \n",
      "---  ------         --------------  -----  \n",
      " 0   Id             1460 non-null   int64  \n",
      " 1   MSSubClass     1460 non-null   int64  \n",
      " 2   MSZoning       1460 non-null   object \n",
      " 3   LotFrontage    1460 non-null   float64\n",
      " 4   LotArea        1460 non-null   int64  \n",
      " 5   Street         1460 non-null   object \n",
      " 6   LotShape       1460 non-null   object \n",
      " 7   LandContour    1460 non-null   object \n",
      " 8   Utilities      1460 non-null   object \n",
      " 9   LotConfig      1460 non-null   object \n",
      " 10  LandSlope      1460 non-null   object \n",
      " 11  Neighborhood   1460 non-null   object \n",
      " 12  Condition1     1460 non-null   object \n",
      " 13  Condition2     1460 non-null   object \n",
      " 14  BldgType       1460 non-null   object \n",
      " 15  HouseStyle     1460 non-null   object \n",
      " 16  OverallQual    1460 non-null   int64  \n",
      " 17  OverallCond    1460 non-null   int64  \n",
      " 18  YearBuilt      1460 non-null   int64  \n",
      " 19  YearRemodAdd   1460 non-null   int64  \n",
      " 20  RoofStyle      1460 non-null   object \n",
      " 21  RoofMatl       1460 non-null   object \n",
      " 22  Exterior1st    1460 non-null   object \n",
      " 23  Exterior2nd    1460 non-null   object \n",
      " 24  MasVnrType     1460 non-null   object \n",
      " 25  MasVnrArea     1460 non-null   float64\n",
      " 26  ExterQual      1460 non-null   object \n",
      " 27  ExterCond      1460 non-null   object \n",
      " 28  Foundation     1460 non-null   object \n",
      " 29  BsmtQual       1460 non-null   object \n",
      " 30  BsmtCond       1460 non-null   object \n",
      " 31  BsmtExposure   1460 non-null   object \n",
      " 32  BsmtFinType1   1460 non-null   object \n",
      " 33  BsmtFinSF1     1460 non-null   int64  \n",
      " 34  BsmtFinType2   1460 non-null   object \n",
      " 35  BsmtFinSF2     1460 non-null   int64  \n",
      " 36  BsmtUnfSF      1460 non-null   int64  \n",
      " 37  TotalBsmtSF    1460 non-null   int64  \n",
      " 38  Heating        1460 non-null   object \n",
      " 39  HeatingQC      1460 non-null   object \n",
      " 40  CentralAir     1460 non-null   object \n",
      " 41  Electrical     1460 non-null   object \n",
      " 42  1stFlrSF       1460 non-null   int64  \n",
      " 43  2ndFlrSF       1460 non-null   int64  \n",
      " 44  LowQualFinSF   1460 non-null   int64  \n",
      " 45  GrLivArea      1460 non-null   int64  \n",
      " 46  BsmtFullBath   1460 non-null   int64  \n",
      " 47  BsmtHalfBath   1460 non-null   int64  \n",
      " 48  FullBath       1460 non-null   int64  \n",
      " 49  HalfBath       1460 non-null   int64  \n",
      " 50  BedroomAbvGr   1460 non-null   int64  \n",
      " 51  KitchenAbvGr   1460 non-null   int64  \n",
      " 52  KitchenQual    1460 non-null   object \n",
      " 53  TotRmsAbvGrd   1460 non-null   int64  \n",
      " 54  Functional     1460 non-null   object \n",
      " 55  Fireplaces     1460 non-null   int64  \n",
      " 56  FireplaceQu    1460 non-null   object \n",
      " 57  GarageType     1460 non-null   object \n",
      " 58  GarageYrBlt    1460 non-null   float64\n",
      " 59  GarageFinish   1460 non-null   object \n",
      " 60  GarageCars     1460 non-null   int64  \n",
      " 61  GarageArea     1460 non-null   int64  \n",
      " 62  GarageQual     1460 non-null   object \n",
      " 63  GarageCond     1460 non-null   object \n",
      " 64  PavedDrive     1460 non-null   object \n",
      " 65  WoodDeckSF     1460 non-null   int64  \n",
      " 66  OpenPorchSF    1460 non-null   int64  \n",
      " 67  EnclosedPorch  1460 non-null   int64  \n",
      " 68  3SsnPorch      1460 non-null   int64  \n",
      " 69  ScreenPorch    1460 non-null   int64  \n",
      " 70  PoolArea       1460 non-null   int64  \n",
      " 71  PoolQC         1460 non-null   object \n",
      " 72  Fence          1460 non-null   object \n",
      " 73  MiscFeature    1460 non-null   object \n",
      " 74  MiscVal        1460 non-null   int64  \n",
      " 75  MoSold         1460 non-null   int64  \n",
      " 76  YrSold         1460 non-null   int64  \n",
      " 77  SaleType       1460 non-null   object \n",
      " 78  SaleCondition  1460 non-null   object \n",
      " 79  SalePrice      1460 non-null   int64  \n",
      "dtypes: float64(3), int64(35), object(42)\n",
      "memory usage: 912.6+ KB\n"
     ]
    }
   ],
   "source": [
    "# I am done with the first part of this analysis\n",
    "df.info()"
   ]
  }
 ],
 "metadata": {
  "kernelspec": {
   "display_name": "Python 3",
   "language": "python",
   "name": "python3"
  },
  "language_info": {
   "codemirror_mode": {
    "name": "ipython",
    "version": 3
   },
   "file_extension": ".py",
   "mimetype": "text/x-python",
   "name": "python",
   "nbconvert_exporter": "python",
   "pygments_lexer": "ipython3",
   "version": "3.8.8"
  }
 },
 "nbformat": 4,
 "nbformat_minor": 5
}
